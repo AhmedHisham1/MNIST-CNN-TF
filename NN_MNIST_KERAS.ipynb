{
 "cells": [
  {
   "cell_type": "code",
   "execution_count": 1,
   "metadata": {},
   "outputs": [
    {
     "name": "stdout",
     "output_type": "stream",
     "text": [
      "/c/HDD/Courses/gitRepos/MNIST-CNN-TF/MNIST-CNN-TF\n"
     ]
    }
   ],
   "source": [
    "import numpy as np\n",
    "import pandas as pd\n",
    "import matplotlib.pyplot as plt\n",
    "import tensorflow as tf\n",
    "from tensorflow.python.keras.callbacks import TensorBoard\n",
    "from time import time\n",
    "\n",
    "%matplotlib inline\n",
    "!pwd"
   ]
  },
  {
   "cell_type": "code",
   "execution_count": 2,
   "metadata": {},
   "outputs": [],
   "source": [
    "mnist = tf.keras.datasets.mnist\n",
    "\n",
    "(x_train, y_train),(x_test, y_test) = mnist.load_data()\n",
    "\n",
    "x_train, x_test = x_train / 255.0, x_test / 255.0"
   ]
  },
  {
   "cell_type": "code",
   "execution_count": 3,
   "metadata": {},
   "outputs": [
    {
     "data": {
      "text/plain": [
       "<matplotlib.image.AxesImage at 0x13bb358fe80>"
      ]
     },
     "execution_count": 3,
     "metadata": {},
     "output_type": "execute_result"
    },
    {
     "data": {
      "image/png": "[encoded data removed]",
      "text/plain": [
       "<Figure size 432x288 with 1 Axes>"
      ]
     },
     "metadata": {
      "needs_background": "light"
     },
     "output_type": "display_data"
    }
   ],
   "source": [
    "plt.imshow(x_train[768,:,:])"
   ]
  },
  {
   "cell_type": "code",
   "execution_count": 4,
   "metadata": {},
   "outputs": [
    {
     "name": "stdout",
     "output_type": "stream",
     "text": [
      "/HDD/Courses/gitRepos/MNIST-CNN-TF/MNIST-CNN-TF\n"
     ]
    }
   ],
   "source": [
    "wd = !pwd\n",
    "print(str(wd[0][2:]))"
   ]
  },
  {
   "cell_type": "code",
   "execution_count": 5,
   "metadata": {
    "scrolled": true
   },
   "outputs": [
    {
     "name": "stderr",
     "output_type": "stream",
     "text": [
      "WARNING: Logging before flag parsing goes to stderr.\n",
      "W0705 02:55:00.533536 28564 deprecation.py:323] From C:\\ProgramData\\Anaconda3\\lib\\site-packages\\tensorflow\\python\\ops\\math_grad.py:1250: add_dispatch_support.<locals>.wrapper (from tensorflow.python.ops.array_ops) is deprecated and will be removed in a future version.\n",
      "Instructions for updating:\n",
      "Use tf.where in 2.0, which has the same broadcast rule as np.where\n"
     ]
    },
    {
     "name": "stdout",
     "output_type": "stream",
     "text": [
      "Train on 60000 samples\n",
      "Epoch 1/5\n",
      "60000/60000 [==============================] - 4s 73us/sample - loss: 0.2187 - accuracy: 0.9352\n",
      "Epoch 2/5\n",
      "60000/60000 [==============================] - 4s 67us/sample - loss: 0.0970 - accuracy: 0.9704\n",
      "Epoch 3/5\n",
      "60000/60000 [==============================] - 4s 67us/sample - loss: 0.0684 - accuracy: 0.9782\n",
      "Epoch 4/5\n",
      "60000/60000 [==============================] - 4s 70us/sample - loss: 0.0538 - accuracy: 0.9832\n",
      "Epoch 5/5\n",
      "60000/60000 [==============================] - 4s 73us/sample - loss: 0.0420 - accuracy: 0.9864\n",
      "10000/10000 [==============================] - 0s 46us/sample - loss: 0.0646 - accuracy: 0.9813\n"
     ]
    }
   ],
   "source": [
    "with tf.device('/gpu:0'):\n",
    "    model = tf.keras.models.Sequential([\n",
    "        tf.keras.layers.Flatten(input_shape=(28, 28)),\n",
    "        tf.keras.layers.Dense(512, activation='relu'),\n",
    "        tf.keras.layers.Dropout(0.2),\n",
    "        tf.keras.layers.Dense(10, activation='softmax')\n",
    "    ])\n",
    "    \n",
    "    tensorboard = TensorBoard(log_dir=r\"logs\\{}\".format(time()))\n",
    "\n",
    "    model.compile(optimizer='adam',\n",
    "                  loss = 'sparse_categorical_crossentropy',\n",
    "                  metrics=['accuracy'])\n",
    "    model.fit(x_train, y_train, epochs=5, callbacks=[tensorboard])\n",
    "    model.evaluate(x_test, y_test)"
   ]
  },
  {
   "cell_type": "code",
   "execution_count": 6,
   "metadata": {},
   "outputs": [
    {
     "name": "stdout",
     "output_type": "stream",
     "text": [
      "10000/10000 [==============================] - 0s 47us/sample - loss: 0.0646 - accuracy: 0.9813\n"
     ]
    },
    {
     "data": {
      "text/plain": [
       "[0.0645874617558904, 0.9813]"
      ]
     },
     "execution_count": 6,
     "metadata": {},
     "output_type": "execute_result"
    }
   ],
   "source": [
    "model.evaluate(x_test, y_test)"
   ]
  },
  {
   "cell_type": "code",
   "execution_count": 7,
   "metadata": {},
   "outputs": [],
   "source": [
    "from sklearn.metrics import confusion_matrix\n",
    "\n",
    "def print_confusion_matrix(v_xs, v_ys):\n",
    "    cls_true = v_ys\n",
    "    cls_pred = np.argmax(model.predict(v_xs), axis=1).T\n",
    "    cm = confusion_matrix(y_true=cls_true, y_pred=cls_pred)\n",
    "    \n",
    "    plt.figure()\n",
    "#     plt.subplot(121)\n",
    "    plt.imshow(cm, interpolation='nearest', cmap=plt.cm.Blues)\n",
    "    plt.tight_layout()\n",
    "    tick_marks = np.arange(10)\n",
    "    plt.xticks(tick_marks, range(10))\n",
    "    plt.yticks(tick_marks, range(10))\n",
    "    plt.xlabel('Predicted')\n",
    "    plt.ylabel('True')\n",
    "    \n",
    "    # Print the confusion matrix as text.\n",
    "#     print(cm)\n",
    "    # Plot the confusion matrix as an image."
   ]
  },
  {
   "cell_type": "code",
   "execution_count": 8,
   "metadata": {},
   "outputs": [
    {
     "name": "stdout",
     "output_type": "stream",
     "text": [
      "10000/10000 [==============================] - 0s 38us/sample\n",
      "prediction for this image: 8\n"
     ]
    },
    {
     "data": {
      "image/png": "[encoded data removed]",
      "text/plain": [
       "<Figure size 432x288 with 1 Axes>"
      ]
     },
     "metadata": {
      "needs_background": "light"
     },
     "output_type": "display_data"
    },
    {
     "data": {
      "image/png": "[encoded data removed]",
      "text/plain": [
       "<Figure size 432x288 with 1 Axes>"
      ]
     },
     "metadata": {
      "needs_background": "light"
     },
     "output_type": "display_data"
    }
   ],
   "source": [
    "img_no = 1234\n",
    "\n",
    "plt.figure()\n",
    "plt.imshow(x_test[img_no,:,:], cmap='Greys')\n",
    "pred = np.argmax(model.predict(x_test, batch_size=None, verbose=1), axis=1)[img_no]\n",
    "print(\"prediction for this image: {}\".format(pred))\n",
    "\n",
    "print_confusion_matrix(x_test, y_test.reshape((-1, 1)))"
   ]
  },
  {
   "cell_type": "code",
   "execution_count": null,
   "metadata": {},
   "outputs": [],
   "source": []
  },
  {
   "cell_type": "code",
   "execution_count": null,
   "metadata": {},
   "outputs": [],
   "source": []
  }
 ],
 "metadata": {
  "kernelspec": {
   "display_name": "Python 3",
   "language": "python",
   "name": "python3"
  },
  "language_info": {
   "codemirror_mode": {
    "name": "ipython",
    "version": 3
   },
   "file_extension": ".py",
   "mimetype": "text/x-python",
   "name": "python",
   "nbconvert_exporter": "python",
   "pygments_lexer": "ipython3",
   "version": "3.7.3"
  }
 },
 "nbformat": 4,
 "nbformat_minor": 2
}
