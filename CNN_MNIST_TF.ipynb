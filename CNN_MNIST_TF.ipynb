{
  "nbformat": 4,
  "nbformat_minor": 0,
  "metadata": {
    "colab": {
      "name": "CNN_MNIST_TF_playground.ipynb",
      "version": "0.3.2",
      "provenance": [],
      "collapsed_sections": []
    },
    "kernelspec": {
      "name": "python3",
      "display_name": "Python 3"
    },
    "accelerator": "GPU"
  },
  "cells": [
    {
      "metadata": {
        "id": "1x0GsBqVvKjC",
        "colab_type": "code",
        "colab": {}
      },
      "cell_type": "code",
      "source": [
        "%matplotlib inline\n",
        "\n",
        "import tensorflow as tf\n",
        "import numpy as np\n",
        "from tensorflow.examples.tutorials.mnist import input_data\n",
        "from sklearn.metrics import confusion_matrix\n",
        "import matplotlib.pyplot as plt"
      ],
      "execution_count": 0,
      "outputs": []
    },
    {
      "metadata": {
        "id": "YqxG-m4NIo3v",
        "colab_type": "code",
        "colab": {
          "base_uri": "https://localhost:8080/",
          "height": 85
        },
        "outputId": "dc47d3f8-7faf-4d01-fb84-62bd4e4e73b5"
      },
      "cell_type": "code",
      "source": [
        "mnist = input_data.read_data_sets('MNIST_data', one_hot=True)\n"
      ],
      "execution_count": 6,
      "outputs": [
        {
          "output_type": "stream",
          "text": [
            "Extracting MNIST_data/train-images-idx3-ubyte.gz\n",
            "Extracting MNIST_data/train-labels-idx1-ubyte.gz\n",
            "Extracting MNIST_data/t10k-images-idx3-ubyte.gz\n",
            "Extracting MNIST_data/t10k-labels-idx1-ubyte.gz\n"
          ],
          "name": "stdout"
        }
      ]
    },
    {
      "metadata": {
        "id": "oz4CUCxgevhd",
        "colab_type": "code",
        "colab": {}
      },
      "cell_type": "code",
      "source": [
        "def compute_accuracy(v_xs, v_ys):\n",
        "    global prediction\n",
        "    \n",
        "    y_pre = sess.run(prediction, feed_dict={xs: v_xs, keep_prob: 1})\n",
        "    # Feeding xs=v_xs and keep_prob=1 to calculate (prediction = tf.nn.softmax(tf.matmul(h_fc1_drop, W_fc2) + b_fc2))\n",
        "    # where (h_fc1_drop = tf.nn.dropout(h_fc1, keep_prob)) >>> that's why we need to feed keep_prob, also (h_fc1 = tf.nn.relu(tf.matmul(h_pool2_flat, W_fc1) + b_fc1))\n",
        "    # and (h_pool2_flat = tf.reshape(h_pool2, [-1, 7*7*64]))...etc, until we reach (xs = tf.placeholder(tf.float32, [None, 784])/255.)\n",
        "    # and (keep_prob = tf.placeholder(tf.float32)). so basically we are feeding the inputs of the CNN which are v_xs in this case, and feeding\n",
        "    # the hyperparameter keep_prob as 1 and then forward propagation runs step by step until it predicts the input images' labels.\n",
        "    \n",
        "    correct_prediction = tf.equal(tf.argmax(y_pre,1), tf.argmax(v_ys,1)) \n",
        "    # tf.equal returns the truth value of tf.argmax(y_pre,1) == tf.argmax(v_ys,1) as a tensor of type bool\n",
        "    # note: tf.argmax returns the index with the largest value across axes of a tensor\n",
        "    \n",
        "    accuracy = tf.reduce_mean(tf.cast(correct_prediction, tf.float32))\n",
        "    # tf.cast(correct_prediction, tf.float32) casts a tensor to a new type(tf.float32 in this case). Because correct prediction was a tensor of type bool.\n",
        "    # tf.reduce_mean(...) computes the mean of elements across dimensions of a tensor. note: default value for axis=0, so it returns the mean of each column(one column anyway)\n",
        "    \n",
        "    result = sess.run(accuracy, feed_dict={xs: v_xs, ys: v_ys, keep_prob: 1})\n",
        "    # feeding the test_x and test_y values and the keep_prob hyperparameter to run the model and evaluate the accuracy; \n",
        "    # where as mentioned above (accuracy = tf.reduce_mean(tf.cast(correct_prediction, tf.float32)))\n",
        "    # also: correct_prediction = tf.equal(tf.argmax(y_pre,1), tf.argmax(v_ys,1)) >>> that's why we feed the test_y (v_ys)\n",
        "    # so the session runs and calculates the accuracy and stores it in the result tensor, which we then return.\n",
        "    \n",
        "    return result\n",
        "  \n",
        "  \n",
        "def print_confusion_matrix(v_xs, v_ys):\n",
        "    # Get the true classifications for the test-set.\n",
        "    cls_true = np.argmax(v_ys, 1)\n",
        "    # Get the predicted classifications for the test-set.\n",
        "    cls_pred = sess.run(prediction, feed_dict={xs: v_xs, keep_prob: 1})\n",
        "    cls_pred = np.argmax(cls_pred, 1)\n",
        "    # Get the confusion matrix using sklearn.\n",
        "    cm = confusion_matrix(y_true=cls_true, y_pred=cls_pred)\n",
        "#     cm = tf.confusion_matrix(labels=cls_true, predictions=cls_pred)\n",
        "    \n",
        "    # Print the confusion matrix as text.\n",
        "    # print(cm)\n",
        "    # Plot the confusion matrix as an image.\n",
        "    \n",
        "    plt.figure(1)\n",
        "#     plt.subplot(121)\n",
        "    plt.imshow(cm, interpolation='nearest', cmap=plt.cm.Blues)\n",
        "    plt.tight_layout()\n",
        "    tick_marks = np.arange(10)\n",
        "    plt.xticks(tick_marks, range(10))\n",
        "    plt.yticks(tick_marks, range(10))\n",
        "    plt.xlabel('Predicted')\n",
        "    plt.ylabel('True')\n",
        "\n",
        "def test(image_no):\n",
        "    if image_no <= 10000:\n",
        "        global prediction\n",
        "        image = np.reshape(mnist.test.images[image_no], [28,28])\n",
        "        plt.figure(2)\n",
        "#         plt.subplot(122)\n",
        "        plt.imshow(image)\n",
        "        print('\\n\\nPrediction for test image no {} ='.format(image_no), end=' ')\n",
        "        print(np.argmax(sess.run(prediction, feed_dict={xs: np.reshape(mnist.test.images[image_no], [1, 28*28]), keep_prob: 1})))\n",
        "    else:\n",
        "        print('Image number must be less than 10000')\n",
        "  \n",
        "  \n",
        "\n",
        "def weight_variable(shape):\n",
        "    initial = tf.truncated_normal(shape, stddev=0.1)\n",
        "    # another way(done by andrew ng):\n",
        "#     W = tf.get_variable(\"W\", shape, initializer=tf.contrib.layers.xavier_initializer(seed = 0))  # just using a different initialization method\n",
        "#     return W\n",
        "    return tf.Variable(initial)\n",
        "\n",
        "def bias_variable(shape):\n",
        "    initial = tf.constant(0.1, shape=shape)\n",
        "    return tf.Variable(initial)\n",
        "\n",
        "def conv2d(x, W):\n",
        "    # stride [1, x_movement, y_movement, 1]\n",
        "    # Must have strides[0] = strides[3] = 1\n",
        "    return tf.nn.conv2d(x, W, strides=[1, 1, 1, 1], padding='SAME')\n",
        "\n",
        "def max_pool_2x2(x):\n",
        "    # stride [1, x_movement, y_movement, 1]\n",
        "    return tf.nn.max_pool(x, ksize=[1,2,2,1], strides=[1,2,2,1], padding='SAME')\n"
      ],
      "execution_count": 0,
      "outputs": []
    },
    {
      "metadata": {
        "id": "4MqmjEjzfrR5",
        "colab_type": "code",
        "colab": {}
      },
      "cell_type": "code",
      "source": [
        "\n",
        "# define placeholder for inputs to network\n",
        "xs = tf.placeholder(tf.float32, [None, 784])/255.   # 28x28\n",
        "ys = tf.placeholder(tf.float32, [None, 10])\n",
        "keep_prob = tf.placeholder(tf.float32)\n",
        "x_image = tf.reshape(xs, [-1, 28, 28, 1])\n",
        "# print(x_image.shape)  # [n_samples, 28,28,1]\n"
      ],
      "execution_count": 0,
      "outputs": []
    },
    {
      "metadata": {
        "id": "RRR3byApgzJ7",
        "colab_type": "code",
        "colab": {}
      },
      "cell_type": "code",
      "source": [
        "\n",
        "## conv1 layer ##\n",
        "W_conv1 = weight_variable([5,5, 1,32]) # patch 5x5, in size 1, out size 32\n",
        "b_conv1 = bias_variable([32])\n",
        "h_conv1 = tf.nn.relu(conv2d(x_image, W_conv1) + b_conv1) # output size 28x28x32\n",
        "h_pool1 = max_pool_2x2(h_conv1)                                         # output size 14x14x32\n"
      ],
      "execution_count": 0,
      "outputs": []
    },
    {
      "metadata": {
        "id": "Uvw1hiZxg1kX",
        "colab_type": "code",
        "colab": {}
      },
      "cell_type": "code",
      "source": [
        "\n",
        "## conv2 layer ##\n",
        "W_conv2 = weight_variable([5,5, 32, 64]) # patch 5x5, in size 32, out size 64\n",
        "b_conv2 = bias_variable([64])\n",
        "h_conv2 = tf.nn.relu(conv2d(h_pool1, W_conv2) + b_conv2) # output size 14x14x64\n",
        "h_pool2 = max_pool_2x2(h_conv2)                                         # output size 7x7x64\n"
      ],
      "execution_count": 0,
      "outputs": []
    },
    {
      "metadata": {
        "id": "Xk_Atmr6g4eI",
        "colab_type": "code",
        "colab": {}
      },
      "cell_type": "code",
      "source": [
        "\n",
        "## fc1 layer ##\n",
        "W_fc1 = weight_variable([7*7*64, 1024])\n",
        "b_fc1 = bias_variable([1024])\n",
        "# [n_samples, 7, 7, 64] ->> [n_samples, 7*7*64]\n",
        "h_pool2_flat = tf.reshape(h_pool2, [-1, 7*7*64])\n",
        "h_fc1 = tf.nn.relu(tf.matmul(h_pool2_flat, W_fc1) + b_fc1)\n",
        "h_fc1_drop = tf.nn.dropout(h_fc1, keep_prob)\n"
      ],
      "execution_count": 0,
      "outputs": []
    },
    {
      "metadata": {
        "id": "vXKUWSZeg68N",
        "colab_type": "code",
        "colab": {}
      },
      "cell_type": "code",
      "source": [
        "\n",
        "## fc2 layer ##\n",
        "W_fc2 = weight_variable([1024, 10])\n",
        "b_fc2 = bias_variable([10])\n",
        "prediction = tf.nn.softmax(tf.matmul(h_fc1_drop, W_fc2) + b_fc2)\n"
      ],
      "execution_count": 0,
      "outputs": []
    },
    {
      "metadata": {
        "id": "WEYrx4w7g84g",
        "colab_type": "code",
        "colab": {}
      },
      "cell_type": "code",
      "source": [
        "\n",
        "# the error between prediction and real data\n",
        "cross_entropy = tf.reduce_mean(-tf.reduce_sum(ys * tf.log(prediction),\n",
        "                                              reduction_indices=[1]))       # loss\n",
        "train_step = tf.train.AdamOptimizer(0.001).minimize(cross_entropy)\n"
      ],
      "execution_count": 0,
      "outputs": []
    },
    {
      "metadata": {
        "id": "M7Ntm_X3hBwj",
        "colab_type": "code",
        "colab": {
          "base_uri": "https://localhost:8080/",
          "height": 379
        },
        "outputId": "bf9b25cf-d8f3-41b8-9d99-f2b4cb10d041"
      },
      "cell_type": "code",
      "source": [
        "\n",
        "sess = tf.Session()\n",
        "init = tf.global_variables_initializer()\n",
        "sess.run(init)\n",
        "\n",
        "print('Batch Size = 100 training examples\\n1 Epoch = 600 batches = the whole 60000 training examples available in the MNIST dataset')\n",
        "\n",
        "num_epochs = 1\n",
        "for i in range(600 * num_epochs):\n",
        "    X_batch, Y_batch = mnist.train.next_batch(100)\n",
        "    #I defined every batch to be of 100 training examples, and since the mnist dataset has 60000 training examples, therefore every 600 batchs define an entire epoch\n",
        "    sess.run(train_step, feed_dict={xs: X_batch, ys: Y_batch, keep_prob: 0.5})\n",
        "    if i % 600 == 0 and i != 0:\n",
        "        # testing on the whole 10000 testing examples available in this dataset\n",
        "        print('Accuracy for {} epoch:'.format((i / 600)), end=' ')\n",
        "        print(compute_accuracy(mnist.test.images[:10000], mnist.test.labels[:10000]))\n",
        "        print('Confusion Matrix:')\n",
        "        print_confusion_matrix(mnist.test.images[:10000], mnist.test.labels[:10000])\n",
        "    elif i == (600*num_epochs-1):\n",
        "        print('Accuracy for {} epoch:'.format(( (i+1) / 600)), end=' ')\n",
        "        print(compute_accuracy(mnist.test.images[:10000], mnist.test.labels[:10000]))\n",
        "        print('Confusion Matrix:')\n",
        "        print_confusion_matrix(mnist.test.images[:10000], mnist.test.labels[:10000])\n",
        "\n",
        "        \n",
        "# to show the progress for every 50 batchs instead of the full epochs uncomment this:\n",
        "\n",
        "# num_epochs = 1\n",
        "# for i in range(600 * num_epochs):\n",
        "#     X_batch, Y_batch = mnist.train.next_batch(100)\n",
        "#     #we define every batch to be of 100 training examples, and since the mnist dataset has 60000 training examples, therefore every 600 batchs define an entire epoch\n",
        "#     sess.run(train_step, feed_dict={xs: X_batch, ys: Y_batch, keep_prob: 0.5})\n",
        "#     if i % 50 == 0:\n",
        "#         print('Accuracy for {} batchs:'.format((i / 50)), end=' ')\n",
        "#         print(compute_accuracy(mnist.test.images[:10000], mnist.test.labels[:10000]))\n",
        "#         print('Confusion Matrix:')\n",
        "#         print_confusion_matrix(mnist.test.images[:10000], mnist.test.labels[:10000])\n",
        "\n"
      ],
      "execution_count": 32,
      "outputs": [
        {
          "output_type": "stream",
          "text": [
            "Batch Size = 100 training examples\n",
            "1 Epoch = 600 batches = the whole 60000 training examples available in the MNIST dataset\n",
            "Accuracy for 1.0 epoch: 0.9791\n",
            "Confusion Matrix:\n"
          ],
          "name": "stdout"
        },
        {
          "output_type": "display_data",
          "data": {
            "image/png": "[encoded data removed]",
            "text/plain": [
              "<matplotlib.figure.Figure at 0x7f3ce3b91e80>"
            ]
          },
          "metadata": {
            "tags": []
          }
        }
      ]
    },
    {
      "metadata": {
        "id": "wUS6U0VnmpN0",
        "colab_type": "code",
        "colab": {
          "base_uri": "https://localhost:8080/",
          "height": 316
        },
        "outputId": "d28331ec-b486-4de3-c4e3-55aade5dafe4"
      },
      "cell_type": "code",
      "source": [
        "# Testing the images predictions\n",
        "\n",
        "test_image_no = 1285   #tweak this number to test different images from the test set.\n",
        "test(test_image_no)"
      ],
      "execution_count": 60,
      "outputs": [
        {
          "output_type": "stream",
          "text": [
            "\n",
            "\n",
            "Prediction for test image no 1285 = 5\n"
          ],
          "name": "stdout"
        },
        {
          "output_type": "display_data",
          "data": {
            "image/png": "[encoded data removed]",
            "text/plain": [
              "<matplotlib.figure.Figure at 0x7f3ce21ffa58>"
            ]
          },
          "metadata": {
            "tags": []
          }
        }
      ]
    },
    {
      "metadata": {
        "id": "jW7ByK8-m8M9",
        "colab_type": "code",
        "colab": {}
      },
      "cell_type": "code",
      "source": [
        ""
      ],
      "execution_count": 0,
      "outputs": []
    }
  ]
}